{
 "cells": [
  {
   "cell_type": "code",
   "execution_count": 27,
   "metadata": {},
   "outputs": [],
   "source": [
    "import math\n",
    "import pandas as pd\n",
    "import numpy as np\n",
    "import matplotlib.pyplot as plt\n",
    "\n",
    "%matplotlib inline"
   ]
  },
  {
   "cell_type": "code",
   "execution_count": 30,
   "metadata": {},
   "outputs": [],
   "source": [
    "exact_df = pd.read_csv(\"exact_loss_landscape.csv\").drop(\"outputscale\", axis=1)\n",
    "exact_df = exact_df.set_index([\"lengthscale\", \"noise\"]).drop_duplicates().reset_index()\n",
    "ls = exact_df[\"lengthscale\"]\n",
    "num_ls = len(ls.unique())\n",
    "noise = exact_df[\"noise\"]\n",
    "num_noise = len(noise.unique())\n",
    "\n",
    "ls = ls.values.reshape((num_ls, num_noise))\n",
    "noise = noise.values.reshape((num_ls, num_noise))\n",
    "mll = exact_df[\"mll\"].values.reshape((num_ls, num_noise))"
   ]
  },
  {
   "cell_type": "code",
   "execution_count": 41,
   "metadata": {},
   "outputs": [
    {
     "data": {
      "text/plain": [
       "[Text(0.5, 0, 'Lengthscale'),\n",
       " Text(0, 0.5, 'Noise'),\n",
       " Text(0.5, 1.0, 'Exact GP Marginal Log Lik.')]"
      ]
     },
     "execution_count": 41,
     "metadata": {},
     "output_type": "execute_result"
    },
    {
     "data": {
      "image/png": "[encoded data removed]",
      "text/plain": [
       "<Figure size 288x216 with 2 Axes>"
      ]
     },
     "metadata": {
      "needs_background": "light"
     },
     "output_type": "display_data"
    }
   ],
   "source": [
    "fig, ax = plt.subplots(1, 1, figsize=(4, 3))\n",
    "cf = ax.contourf(ls, noise, (mll).clip(-0.5, None))\n",
    "fig.colorbar(cf)\n",
    "ax.set(xlabel=\"Lengthscale\", ylabel=\"Noise\", title=\"Exact GP Marginal Log Lik.\")"
   ]
  },
  {
   "cell_type": "code",
   "execution_count": 39,
   "metadata": {},
   "outputs": [
    {
     "data": {
      "text/plain": [
       "0.17064140737056732"
      ]
     },
     "execution_count": 39,
     "metadata": {},
     "output_type": "execute_result"
    }
   ],
   "source": [
    "(-mll).min()"
   ]
  },
  {
   "cell_type": "code",
   "execution_count": null,
   "metadata": {},
   "outputs": [],
   "source": []
  }
 ],
 "metadata": {
  "kernelspec": {
   "display_name": "Python 3",
   "language": "python",
   "name": "python3"
  },
  "language_info": {
   "codemirror_mode": {
    "name": "ipython",
    "version": 3
   },
   "file_extension": ".py",
   "mimetype": "text/x-python",
   "name": "python",
   "nbconvert_exporter": "python",
   "pygments_lexer": "ipython3",
   "version": "3.7.0"
  }
 },
 "nbformat": 4,
 "nbformat_minor": 4
}
