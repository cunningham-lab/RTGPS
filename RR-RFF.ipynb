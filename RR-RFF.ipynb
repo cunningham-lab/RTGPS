{
 "cells": [
  {
   "cell_type": "markdown",
   "metadata": {},
   "source": [
    "An `RR-RFF` notebook that\n",
    "1. evaluates RR-RFF's `inv_quad` and `log_det` bias versus vanilla RFF and Cholesky.\n",
    "2. similarly compares hyperparameter recovery between the methods"
   ]
  },
  {
   "cell_type": "code",
   "execution_count": 1,
   "metadata": {},
   "outputs": [],
   "source": [
    "import gpytorch\n",
    "import math\n",
    "import numpy as np\n",
    "import torch\n",
    "from tqdm import tqdm\n",
    "import matplotlib.pyplot as plt\n",
    "%matplotlib inline\n",
    "from gpytorch.kernels.rr_rff import RR_RFF_Kernel\n",
    "from rr_utils.dist_of_iterations import ExpDecayDist, OneOverJ, UniformDist\n",
    "\n",
    "%load_ext autoreload\n",
    "%autoreload 2"
   ]
  },
  {
   "cell_type": "code",
   "execution_count": 2,
   "metadata": {},
   "outputs": [],
   "source": [
    "# Andres' funcs\n",
    "from experiments.experiment_fns import GPRegressionModel, \\\n",
    "        GPRegressionModelRFF, train, set_hypers, \\\n",
    "        randomly_sample_hypers, recover_cholesky, \\\n",
    "        recover_rff, print_initial_hypers, plot_results # add Tracker"
   ]
  },
  {
   "cell_type": "code",
   "execution_count": 3,
   "metadata": {},
   "outputs": [],
   "source": [
    "def get_hypers(model):\n",
    "    hypers = {}\n",
    "    hypers[\"noise_scale\"] = model.likelihood.noise_covar.noise.item()\n",
    "    hypers[\"ls\"] = model.covar_module.base_kernel.lengthscale.item()\n",
    "    hypers[\"output_scale\"] = model.covar_module.outputscale.item()\n",
    "    return hypers"
   ]
  },
  {
   "cell_type": "code",
   "execution_count": 4,
   "metadata": {},
   "outputs": [],
   "source": [
    "def build_RFF_model(hypers, num_rff_samples, train_ds):\n",
    "    likelihood = gpytorch.likelihoods.GaussianLikelihood()\n",
    "    RFF_model = GPRegressionModelRFF(*train_ds, likelihood, num_rff_samples)\n",
    "    # fix hypers (assuming they were pre-optimized in a Cholesky model)\n",
    "    set_hypers(RFF_model, hypers[\"noise_scale\"], hypers[\"ls\"],\n",
    "               hypers[\"output_scale\"])\n",
    "    return RFF_model"
   ]
  },
  {
   "cell_type": "code",
   "execution_count": 5,
   "metadata": {},
   "outputs": [],
   "source": [
    "class GPRegressionModel_RR_RFF(gpytorch.models.ExactGP):\n",
    "    '''a model that uses the RR_RFF_Kernel as the base_kernel,\n",
    "    recieves a truncation distribution (dist_obj), and at every forward call\n",
    "    samples an integer from dist_obj and uses it to compute cov mat'''\n",
    "    def __init__(self, train_x, train_y, likelihood, dist_obj, single_sample):\n",
    "        super().__init__(train_x, train_y, likelihood)\n",
    "        self.dist_obj = dist_obj\n",
    "        self.mean_module = gpytorch.means.ZeroMean()\n",
    "        self.covar_module = gpytorch.kernels.ScaleKernel(\n",
    "            RR_RFF_Kernel(single_sample=single_sample,\n",
    "                          min_val=self.dist_obj.min))\n",
    "\n",
    "    def single_sample_estimator(self, terms):\n",
    "        '''for any two terms, compute their difference and weigh it by 1/p(J)'''\n",
    "        J = torch.clone(self.covar_module.base_kernel.num_samples)\n",
    "        # ToDo: check whether we're summing up to k or up to k-1.\n",
    "        # now trying a sum up to k-1\n",
    "        # ToDo: account for min_val == 1. right now not supported.\n",
    "        if self.covar_module.base_kernel.min_val==1:\n",
    "            print('min_val=1 currently not supported by single_sample_estimator()')\n",
    "        base_terms = terms[:self.covar_module.base_kernel.min_val-1]\n",
    "        shifted_base_terms = torch.cat([torch.zeros(1), \\\n",
    "                                       base_terms[:-1]])\n",
    "        base_deltas = base_terms - shifted_base_terms\n",
    "        final_delta = terms[-1] - terms[-2]\n",
    "        ss_weight = 1. / self.dist_obj.prob(J)\n",
    "        ss_estimator = ss_weight * final_delta  + base_deltas.sum()\n",
    "        return ss_estimator\n",
    "\n",
    "    def RR_estimator(self, J_terms):\n",
    "        '''for any J terms, weigh them by weight diffs to get the RR estimator'''\n",
    "        J = torch.clone(self.covar_module.base_kernel.num_samples)\n",
    "        # compute {c1-c2, c2-c3, ... , cJ)\n",
    "        rr_weight_diffs = self.dist_obj.compute_weight_diffs(J)\n",
    "        # compute weighted sum\n",
    "        rr_estimator = rr_weight_diffs.dot(J_terms)\n",
    "        return rr_estimator\n",
    "\n",
    "    def RT_estimator(self, input_terms):\n",
    "        '''method that either runs SS or RR estimation based on\n",
    "        the single_sample flag inside our base kernel.'''\n",
    "        if self.covar_module.base_kernel.single_sample:\n",
    "            #assert input_terms.numel() == 2 # ToDo: modify assertion with unique\n",
    "            return self.single_sample_estimator(input_terms)\n",
    "        else:\n",
    "            assert input_terms.numel(\n",
    "            ) == self.covar_module.base_kernel.num_samples\n",
    "            return self.RR_estimator(input_terms)\n",
    "\n",
    "    def forward(self, x):\n",
    "        mean_x = self.mean_module(x)\n",
    "        # covar ops: Russian Roulette\n",
    "        # sample\n",
    "        J = self.dist_obj.sample()\n",
    "        # redefine num_samples for forward pass\n",
    "        self.covar_module.base_kernel.num_samples = torch.clone(J)\n",
    "        covar_x = self.covar_module(x)  # forward pass\n",
    "        return gpytorch.distributions.MultivariateNormal(mean_x, covar_x)"
   ]
  },
  {
   "cell_type": "code",
   "execution_count": 6,
   "metadata": {},
   "outputs": [],
   "source": [
    "def build_RR_RFF_model(train_ds, dist_obj, single_sample, hypers):\n",
    "    likelihood = gpytorch.likelihoods.GaussianLikelihood()\n",
    "    model = GPRegressionModel_RR_RFF(train_ds[0],\n",
    "                                     train_ds[1],\n",
    "                                     likelihood,\n",
    "                                     dist_obj,\n",
    "                                    single_sample)\n",
    "    if hypers is not None:\n",
    "        # if you're given specific params, use them. otherwise auto init.\n",
    "        set_hypers(model, \n",
    "                   hypers[\"noise_scale\"], \n",
    "                   hypers[\"ls\"], \n",
    "                   hypers[\"output_scale\"])\n",
    "    return model"
   ]
  },
  {
   "cell_type": "code",
   "execution_count": 7,
   "metadata": {},
   "outputs": [],
   "source": [
    "def visualize_distrib(RRDist_obj, title):\n",
    "    # ToDo: add 1/(1-CDF(J-1))\n",
    "    xvals = np.arange(1, len(RRDist_obj.probs)+1)\n",
    "    plt.plot(xvals, \n",
    "         RRDist_obj.probs.numpy(), '--o', label = 'PMF(J)')\n",
    "    plt.plot(xvals, \n",
    "         RRDist_obj.cdf_full.numpy(), \n",
    "         '--o',\n",
    "         label = \"CDF(J)\")\n",
    "    plt.xlabel('J')\n",
    "    plt.title(title)\n",
    "    #plt.xticks(xvals)\n",
    "    plt.legend();"
   ]
  },
  {
   "cell_type": "markdown",
   "metadata": {},
   "source": [
    "### create training data"
   ]
  },
  {
   "cell_type": "code",
   "execution_count": 8,
   "metadata": {},
   "outputs": [],
   "source": [
    "# classic simulated\n",
    "# train_x = torch.linspace(0, 1, 200)\n",
    "# train_y = torch.sin(train_x * (5 * math.pi)) * train_x + torch.randn_like(train_x) * 0.1\n",
    "# train_ds = (train_x, train_y)\n",
    "# test_x = torch.linspace(-1, 2, 151)\n",
    "\n",
    "# UCI data\n",
    "from experiments.load_data import load_uci_data\n",
    "# train_n = 100\n",
    "train_n = 1000\n",
    "train_x, train_y, *_ = load_uci_data('./datasets', 'pol')\n",
    "train_x, train_y = train_x[:train_n, :], train_y[:train_n]\n",
    "train_ds = (train_x, train_y)"
   ]
  },
  {
   "cell_type": "code",
   "execution_count": 9,
   "metadata": {},
   "outputs": [],
   "source": [
    "def train(model, likelihood, name=\"\", total_iters=500):\n",
    "    train_x, train_y = model.train_inputs[0], model.train_targets\n",
    "\n",
    "    # Optimize only lengthscale\n",
    "    # optimizer = torch.optim.Adam(model.covar_module.base_kernel.parameters(), lr=0.05)\n",
    "\n",
    "    # Optimize all the three classical params\n",
    "    optimizer = torch.optim.Adam(model.parameters(), lr=0.05)\n",
    "\n",
    "    mll = gpytorch.mlls.ExactMarginalLogLikelihood(likelihood, model)\n",
    "    model.train()\n",
    "    iterator = tqdm(range(total_iters), desc=f\"{name} Training\")\n",
    "    output = model(train_x)\n",
    "    loss = -mll(output, train_y)\n",
    "\n",
    "    for _ in iterator:\n",
    "        optimizer.zero_grad()\n",
    "        output = model(train_x)\n",
    "        \n",
    "        loss = -mll(output, train_y)\n",
    "        \n",
    "        # ToDo: modify for single_sample estimator. Modify also for RR estimator to use the model methods.\n",
    "        if hasattr(model, \"dist_obj\"):\n",
    "            J = torch.clone(model.covar_module.base_kernel.num_samples)\n",
    "            # compute {c1-c2, c2-c3, ... , cJ)\n",
    "            rr_weight_diffs = model.dist_obj.compute_weight_diffs(J)\n",
    "            # compute weighted sum\n",
    "            loss = rr_weight_diffs.dot(loss)\n",
    "            \n",
    "        loss.backward()\n",
    "        optimizer.step()\n",
    "        # inv_quad, logdet = mll.parts(output, train_y) # andres' modified implementation\n",
    "        iterator.set_postfix(\n",
    "            loss=loss.item(), ls=model.covar_module.base_kernel.lengthscale.item(),\n",
    "            os=model.covar_module.outputscale.item(), noise=likelihood.noise.item())\n",
    "\n",
    "        # Reset RFF weights\n",
    "        if hasattr(model.covar_module.base_kernel, \"randn_weights\"):\n",
    "            model.covar_module.base_kernel.randn_weights.normal_()\n",
    "\n",
    "    return mll"
   ]
  },
  {
   "cell_type": "code",
   "execution_count": 10,
   "metadata": {},
   "outputs": [],
   "source": [
    "def compute_logdet_invquad(likelihood, model, train_ds):\n",
    "    '''for rr-rff: log_det.numel() == num_samples, pre rr-weighted sum\n",
    "    for rff and exact: log_det.numel() == 1'''\n",
    "    with gpytorch.settings.debug(False):  # necessary for rr-rff\n",
    "        with torch.no_grad():\n",
    "            with gpytorch.settings.prior_mode(True):\n",
    "                out = likelihood(model(train_ds[0]))\n",
    "                log_det = out.covariance_matrix.logdet()\n",
    "                inv_quad = out.lazy_covariance_matrix.inv_quad(train_ds[1])\n",
    "\n",
    "    return log_det, inv_quad\n",
    "\n",
    "\n",
    "# # test for rr-rff assuming some likelihood, model, train_ds\n",
    "# log_det_test, inv_quad_test = compute_logdet_invquad(likelihood, model,\n",
    "#                                                      train_ds)\n",
    "# assert log_det_test.numel() == model.covar_module.base_kernel.num_samples"
   ]
  },
  {
   "cell_type": "code",
   "execution_count": 11,
   "metadata": {},
   "outputs": [],
   "source": [
    "def evaluate_RT_rff(likelihood, model, exact_backup_model, train_ds):\n",
    "    '''provides an rr estimate of logdet and invquad; also tracks Js.\n",
    "    results should be compared to an RFF estimator with num_samples = torch.mean(J)'''\n",
    "    log_det, inv_quad = compute_logdet_invquad(likelihood, model,\n",
    "                                                     train_ds)\n",
    "    J = torch.clone(model.covar_module.base_kernel.num_samples)\n",
    "    if model.covar_module.base_kernel.single_sample: # terms include just the difference between J and J-1 terms\n",
    "        #assert log_det.numel() == 2\n",
    "        #assert inv_quad.numel() == 2\n",
    "        a = str('correct this')\n",
    "    else: # full RR\n",
    "        assert log_det.numel() == J\n",
    "        assert inv_quad.numel() == J\n",
    "\n",
    "    if J == model.dist_obj.max:\n",
    "    # if J == 1000:\n",
    "        # modify the last entry of logdet and invquad to the exact sol'n\n",
    "        log_det_exact, inv_quad_exact = compute_logdet_invquad(\n",
    "            likelihood, exact_backup_model, train_ds)\n",
    "        assert log_det_exact.numel() == 1\n",
    "        assert inv_quad_exact.numel() == 1\n",
    "        # overwrite last entries\n",
    "        log_det[-1] = log_det_exact\n",
    "        inv_quad[-1] = inv_quad_exact\n",
    "    # RT_estimator is either single sample or russian roulette, depending on single_sample flag in base kernel\n",
    "    debiased_log_det = model.RT_estimator(log_det)\n",
    "    debiased_inv_quad = model.RT_estimator(inv_quad)\n",
    "    \n",
    "    return J, debiased_log_det, debiased_inv_quad"
   ]
  },
  {
   "cell_type": "code",
   "execution_count": 12,
   "metadata": {},
   "outputs": [],
   "source": [
    "# old, works\n",
    "# def evaluate_rr_rff(likelihood, model, exact_backup_model, train_ds):\n",
    "#     '''provides an rr estimate of logdet and invquad; also tracks Js.\n",
    "#     results should be compared to an RFF estimator with num_samples = torch.mean(J)'''\n",
    "#     log_det_rr, inv_quad_rr = compute_logdet_invquad(likelihood, model, train_ds)\n",
    "#     J = torch.clone(model.covar_module.base_kernel.num_samples)\n",
    "#     assert log_det_rr.numel() == J\n",
    "#     assert inv_quad_rr.numel() == J\n",
    "\n",
    "#     if J == model.dist_obj.max:\n",
    "#         # modify the last entry of logdet and invquad to the exact sol'n\n",
    "#         log_det_exact, inv_quad_exact = compute_logdet_invquad(\n",
    "#             likelihood, exact_backup_model, train_ds)\n",
    "#         assert log_det_exact.numel() == 1\n",
    "#         assert inv_quad_exact.numel() == 1\n",
    "#         # overwrite last entries\n",
    "#         log_det_rr[-1] = log_det_exact\n",
    "#         inv_quad_rr[-1] = inv_quad_exact\n",
    "\n",
    "#     # compute {c1-c2, c2-c3, ... , cJ)\n",
    "#     rr_weight_diffs = model.dist_obj.compute_weight_diffs(J)\n",
    "#     # compute weighted sums\n",
    "#     debiased_log_det = rr_weight_diffs.dot(log_det_rr)\n",
    "#     debiased_inv_quad = rr_weight_diffs.dot(inv_quad_rr)\n",
    "#     return J, debiased_log_det, debiased_inv_quad"
   ]
  },
  {
   "cell_type": "code",
   "execution_count": 13,
   "metadata": {},
   "outputs": [],
   "source": [
    "def run_rff_rounds(num_rr_rounds, likelihood, model, train_ds):\n",
    "    '''model is assumed to have the right number of samples'''\n",
    "    res_dict = {}\n",
    "    res_dict[\"J\"] = torch.zeros(num_rr_rounds,\n",
    "                                dtype=train_ds[0].dtype,\n",
    "                                device=train_ds[0].device)\n",
    "    res_dict[\"logdet\"] = torch.zeros(num_rr_rounds,\n",
    "                                     dtype=train_ds[0].dtype,\n",
    "                                     device=train_ds[0].device)\n",
    "    res_dict[\"invquad\"] = torch.zeros(num_rr_rounds,\n",
    "                                      dtype=train_ds[0].dtype,\n",
    "                                      device=train_ds[0].device)\n",
    "\n",
    "    for i in range(num_rr_rounds):\n",
    "        res_dict[\"logdet\"][i], res_dict[\"invquad\"][i] = \\\n",
    "        compute_logdet_invquad(likelihood, model, train_ds)\n",
    "\n",
    "        res_dict[\"J\"][i] = model.covar_module.base_kernel.num_samples\n",
    "\n",
    "        # take a new sample of the RFF weights\n",
    "        if hasattr(model.covar_module.base_kernel, \"randn_weights\"):\n",
    "            model.covar_module.base_kernel.randn_weights.normal_()\n",
    "\n",
    "    return res_dict"
   ]
  },
  {
   "cell_type": "code",
   "execution_count": 14,
   "metadata": {},
   "outputs": [],
   "source": [
    "def run_rr_rounds(num_rr_rounds, likelihood, model, exact_backup_model,\n",
    "                  train_ds):\n",
    "    '''computes RR estimators num_rr_rounds times, doing so for logdet and invquad'''\n",
    "    res_dict = {}\n",
    "    res_dict[\"J\"] = torch.zeros(num_rr_rounds,\n",
    "                                dtype=train_ds[0].dtype,\n",
    "                                device=train_ds[0].device)\n",
    "    res_dict[\"logdet\"] = torch.zeros(num_rr_rounds,\n",
    "                                     dtype=train_ds[0].dtype,\n",
    "                                     device=train_ds[0].device)\n",
    "    res_dict[\"invquad\"] = torch.zeros(num_rr_rounds,\n",
    "                                      dtype=train_ds[0].dtype,\n",
    "                                      device=train_ds[0].device)\n",
    "\n",
    "    for i in range(num_rr_rounds):\n",
    "        # was previously evalute_rr_rff\n",
    "        res_dict[\"J\"][i], res_dict[\"logdet\"][i], res_dict[\"invquad\"][i] = \\\n",
    "        evaluate_RT_rff(likelihood, model, exact_backup_model, train_ds)\n",
    "\n",
    "    return res_dict\n",
    "\n",
    "\n",
    "# # test (assuming all instances were initialized, maybe remove)\n",
    "# test_rr_model = build_RR_RFF_model(train_ds, exp_dist, hypers)\n",
    "# res_dict_test = run_rr_rounds(3, likelihood, test_rr_model, exact_model, train_ds)"
   ]
  },
  {
   "cell_type": "markdown",
   "metadata": {},
   "source": [
    "# build and optimize an exact model\n",
    "## loop over truncation dists\n",
    "### ->loop over rr rounds to get rr-rff estimators\n",
    "### ->loop over rff rounds to get rff estimators"
   ]
  },
  {
   "cell_type": "markdown",
   "metadata": {},
   "source": [
    "# build and optimize and exact model"
   ]
  },
  {
   "cell_type": "code",
   "execution_count": 15,
   "metadata": {},
   "outputs": [
    {
     "name": "stdout",
     "output_type": "stream",
     "text": [
      "Pre training: noise scale  0.6932 | lengthscale 0.6931 | output scale 0.6931\n"
     ]
    }
   ],
   "source": [
    "# build\n",
    "likelihood = gpytorch.likelihoods.GaussianLikelihood()\n",
    "exact_model = GPRegressionModel(*train_ds, likelihood)\n",
    "print_initial_hypers(exact_model)"
   ]
  },
  {
   "cell_type": "code",
   "execution_count": 16,
   "metadata": {},
   "outputs": [
    {
     "name": "stderr",
     "output_type": "stream",
     "text": [
      "Cholesky Training:   0%|          | 0/500 [00:00<?, ?it/s]/home/ubu/anaconda3/lib/python3.8/site-packages/torch/autograd/__init__.py:130: UserWarning: CUDA initialization: Found no NVIDIA driver on your system. Please check that you have an NVIDIA GPU and installed a driver from http://www.nvidia.com/Download/index.aspx (Triggered internally at  /pytorch/c10/cuda/CUDAFunctions.cpp:100.)\n",
      "  Variable._execution_engine.run_backward(\n",
      "Cholesky Training: 100%|██████████| 500/500 [01:08<00:00,  7.25it/s, loss=0.409, ls=0.367, noise=0.018, os=0.38]  \n"
     ]
    }
   ],
   "source": [
    "# train\n",
    "total_iters = 500\n",
    "with gpytorch.settings.max_cholesky_size(int(1.e7)):\n",
    "    mll = train(exact_model,\n",
    "                likelihood,\n",
    "                name=\"Cholesky\",\n",
    "                total_iters=total_iters)"
   ]
  },
  {
   "cell_type": "code",
   "execution_count": 17,
   "metadata": {},
   "outputs": [],
   "source": [
    "# exact model logdet and invquad\n",
    "log_det_exact, inv_quad_exact = compute_logdet_invquad(likelihood, exact_model, train_ds)\n",
    "log_det_exact = log_det_exact.cpu()\n",
    "inv_quad_exact = inv_quad_exact.cpu()"
   ]
  },
  {
   "cell_type": "code",
   "execution_count": 18,
   "metadata": {},
   "outputs": [
    {
     "name": "stderr",
     "output_type": "stream",
     "text": [
      "/home/ubu/gpytorch/gpytorch/models/exact_gp.py:273: GPInputWarning: The input matches the stored training data. Did you forget to call model.train()?\n",
      "  warnings.warn(\n"
     ]
    },
    {
     "data": {
      "text/plain": [
       "[<matplotlib.lines.Line2D at 0x7f65843433d0>]"
      ]
     },
     "execution_count": 18,
     "metadata": {},
     "output_type": "execute_result"
    },
    {
     "data": {
      "image/png": "[encoded data removed]",
      "text/plain": [
       "<Figure size 432x288 with 1 Axes>"
      ]
     },
     "metadata": {
      "needs_background": "light"
     },
     "output_type": "display_data"
    }
   ],
   "source": [
    "# eval fit on training data\n",
    "exact_model.eval()\n",
    "pred = likelihood(exact_model(train_x))\n",
    "plt.scatter(train_y.cpu(), pred.mean.detach().cpu().numpy())\n",
    "plt.xlabel(r'$y$')\n",
    "plt.ylabel(r'$\\widehat{y}$')\n",
    "plt.title('Cholesky GP fit')\n",
    "plt.plot([-3,3], [-3,3])"
   ]
  },
  {
   "cell_type": "code",
   "execution_count": 19,
   "metadata": {},
   "outputs": [
    {
     "name": "stdout",
     "output_type": "stream",
     "text": [
      "{'noise_scale': 0.01797483116388321, 'ls': 0.36673200130462646, 'output_scale': 0.3797934055328369}\n"
     ]
    }
   ],
   "source": [
    "# extract the optimized hypers to re-use in RFF and RR-RFF\n",
    "hypers = get_hypers(exact_model)\n",
    "print(hypers)"
   ]
  },
  {
   "cell_type": "code",
   "execution_count": 20,
   "metadata": {},
   "outputs": [
    {
     "data": {
      "image/png": "[encoded data removed]",
      "text/plain": [
       "<Figure size 432x288 with 1 Axes>"
      ]
     },
     "metadata": {
      "needs_background": "light"
     },
     "output_type": "display_data"
    }
   ],
   "source": [
    "#visualize_distrib(OneOverJ(min=5, max =40, do_sqrt=True),'one_over_J')\n",
    "dist = OneOverJ(min=5, max =40, do_sqrt=True)\n",
    "visualize_distrib(dist,r'$\\propto 1/\\sqrt{J}$')\n",
    "#print(dist.probs)"
   ]
  },
  {
   "cell_type": "code",
   "execution_count": 21,
   "metadata": {},
   "outputs": [],
   "source": [
    "# likelihood = gpytorch.likelihoods.GaussianLikelihood()"
   ]
  },
  {
   "cell_type": "markdown",
   "metadata": {},
   "source": [
    "### loop over `dist_obj`'s \n",
    "and compare values for the different methods."
   ]
  },
  {
   "cell_type": "code",
   "execution_count": 22,
   "metadata": {},
   "outputs": [
    {
     "name": "stdout",
     "output_type": "stream",
     "text": [
      "initializing RR RFF class\n",
      "initializing RR RFF class\n",
      "initializing RR RFF class\n",
      "initializing RR RFF class\n"
     ]
    }
   ],
   "source": [
    "'''We use a one/J distribution for a first pass, looping over range of vals'''\n",
    "num_rr_rounds = 2000 # 2000 worked well\n",
    "min_val = torch.linspace(10, 40, 4, dtype = torch.int) # assuming max of 50 for now\n",
    "max_val = len(train_x) // 2\n",
    "#temps = torch.logspace(-5, -1, 5) # was (-3,-1, 3)\n",
    "res_list_rr = []\n",
    "res_list_rff = []\n",
    "num_rff_samples = np.zeros_like(min_val)\n",
    "with torch.no_grad():\n",
    "    for i in range(len(min_val)):  # ToDo: decide which variable to loop on\n",
    "        # redefine J distribution\n",
    "        # 1/J or 1/sqrt(J)\n",
    "        J_dist = OneOverJ(min=min_val[i], max=max_val, do_sqrt = True)\n",
    "        # uniform\n",
    "        #J_dist = UniformDist(min=int(min_val[i]), max=int(max_val))\n",
    "        # build RR model with trained Cholesky params\n",
    "        rr_model = build_RR_RFF_model(train_ds=train_ds,\n",
    "                                      dist_obj=J_dist,\n",
    "                                      single_sample=True,\n",
    "                                      hypers=hypers)\n",
    "        res_list_rr.append(\n",
    "            run_rr_rounds(num_rr_rounds, likelihood, rr_model, exact_model,\n",
    "                          train_ds))\n",
    "        # average number of samples\n",
    "        num_rff_samples[i] = np.ceil(\n",
    "            torch.mean(res_list_rr[i]['J']).cpu().numpy())\n",
    "        rff_model = build_RFF_model(hypers, int(num_rff_samples[i]), train_ds)\n",
    "        res_list_rff.append(\n",
    "            run_rff_rounds(num_rr_rounds, likelihood, rff_model, train_ds))"
   ]
  },
  {
   "cell_type": "code",
   "execution_count": 23,
   "metadata": {},
   "outputs": [
    {
     "name": "stdout",
     "output_type": "stream",
     "text": [
      "RR Model\n",
      "Outputscale: 0.3797934055328369\n",
      "Lengthscale: 0.36673200130462646\n",
      "Noise: 0.01797483116388321\n",
      "\n",
      "Exact model:\n",
      "Outputscale: 0.3797934055328369\n",
      "Lengthscale: 0.36673200130462646\n",
      "Noise: 0.01797483116388321\n"
     ]
    }
   ],
   "source": [
    "def print_hypers(model):\n",
    "    print(f\"Outputscale: {model.covar_module.outputscale.item()}\")\n",
    "    print(f\"Lengthscale: {model.covar_module.base_kernel.lengthscale.item()}\")\n",
    "    print(f\"Noise: {model.likelihood.noise.item()}\")\n",
    "\n",
    "    \n",
    "print(\"RR Model\")\n",
    "print_hypers(rr_model)\n",
    "print(\"\\nExact model:\")\n",
    "print_hypers(exact_model)\n",
    "# for name, param in rr_model.named_parameters():\n",
    "#     print(name, param.item())"
   ]
  },
  {
   "cell_type": "code",
   "execution_count": 24,
   "metadata": {},
   "outputs": [],
   "source": [
    "# ToDo: move pickle utils to utils\n",
    "import pickle\n",
    "def save_object(obj, filename):\n",
    "    with open(filename, \"wb\") as output:  # Overwrites any existing file.\n",
    "        pickle.dump(obj, output, pickle.HIGHEST_PROTOCOL)\n",
    "\n",
    "\n",
    "def load_object(filename):\n",
    "    with open(filename, \"rb\") as input:  # note rb and not wb\n",
    "        return pickle.load(input)"
   ]
  },
  {
   "cell_type": "code",
   "execution_count": 25,
   "metadata": {},
   "outputs": [],
   "source": [
    "res_dict = {}\n",
    "res_dict[\"rr\"] = res_list_rr\n",
    "res_dict[\"rff\"] = res_list_rff\n",
    "res_dict[\"num_samples\"] = num_rff_samples\n",
    "save_object(res_dict, 'results_initial_single_sample_one_over_j')\n",
    "#test_load = load_object('results_initial_one_over_j')\n",
    "#test_load"
   ]
  },
  {
   "cell_type": "code",
   "execution_count": null,
   "metadata": {},
   "outputs": [],
   "source": []
  },
  {
   "cell_type": "code",
   "execution_count": 26,
   "metadata": {},
   "outputs": [],
   "source": [
    "# exact model logdet and invquad\n",
    "# log_det_exact, inv_quad_exact = compute_logdet_invquad(likelihood, exact_model, train_ds)\n",
    "# log_det_exact = log_det_exact.cpu()\n",
    "# inv_quad_exact = inv_quad_exact.cpu()"
   ]
  },
  {
   "cell_type": "code",
   "execution_count": 27,
   "metadata": {},
   "outputs": [],
   "source": [
    "order = num_rff_samples.argsort()\n",
    "\n",
    "mean_rff_log_det = np.zeros(len(res_list_rff))\n",
    "std_rff_log_det = np.zeros(len(res_list_rff))\n",
    "mean_rr_log_det = np.zeros(len(res_list_rr))\n",
    "std_rr_log_det = np.zeros(len(res_list_rr))\n",
    "\n",
    "mean_rff_invquad = np.zeros(len(res_list_rff))\n",
    "std_rff_invquad = np.zeros(len(res_list_rff))\n",
    "mean_rr_invquad = np.zeros(len(res_list_rr))\n",
    "std_rr_invquad = np.zeros(len(res_list_rr))\n",
    "\n",
    "\n",
    "for i in range(len(res_list_rff)):\n",
    "    mean_rff_log_det[i] = np.mean(res_list_rff[order[i]]['logdet'].cpu().numpy())\n",
    "    std_rff_log_det[i] = np.std(res_list_rff[order[i]]['logdet'].cpu().numpy())\n",
    "    mean_rr_log_det[i] = np.mean(res_list_rr[order[i]]['logdet'].cpu().numpy())\n",
    "    std_rr_log_det[i] = np.std(res_list_rr[order[i]]['logdet'].cpu().numpy())\n",
    "    \n",
    "    mean_rff_invquad[i] = np.mean(res_list_rff[order[i]]['invquad'].cpu().numpy())\n",
    "    std_rff_invquad[i] = np.std(res_list_rff[order[i]]['invquad'].cpu().numpy())\n",
    "    mean_rr_invquad[i] = np.mean(res_list_rr[order[i]]['invquad'].cpu().numpy())\n",
    "    std_rr_invquad[i] = np.std(res_list_rr[order[i]]['invquad'].cpu().numpy())"
   ]
  },
  {
   "cell_type": "code",
   "execution_count": 28,
   "metadata": {},
   "outputs": [
    {
     "data": {
      "image/png": "[encoded data removed]",
      "text/plain": [
       "<Figure size 432x288 with 2 Axes>"
      ]
     },
     "metadata": {
      "needs_background": "light"
     },
     "output_type": "display_data"
    }
   ],
   "source": [
    "# added a jitter of 5\n",
    "plt.subplot(121)\n",
    "plt.hlines(y=log_det_exact,\n",
    "           xmin=np.min(num_rff_samples)-10,\n",
    "           xmax=np.max(num_rff_samples)+10,\n",
    "           linestyle='dashed',\n",
    "           color='black',\n",
    "          label='exact')\n",
    "plt.errorbar(num_rff_samples[order], mean_rff_log_det, std_rff_log_det/np.sqrt(num_rr_rounds), label='RFF')\n",
    "plt.errorbar(num_rff_samples[order], mean_rr_log_det, std_rr_log_det/np.sqrt(num_rr_rounds), label= 'RR-RFF')\n",
    "plt.title('logdet')\n",
    "plt.xlabel('J')\n",
    "plt.ylabel('logdet')\n",
    "plt.legend()\n",
    "plt.subplot(122)\n",
    "plt.hlines(y=inv_quad_exact,\n",
    "           xmin=np.min(num_rff_samples[order])-10,\n",
    "           xmax=np.max(num_rff_samples[order])+10,\n",
    "           linestyle='dashed',\n",
    "           color='black',\n",
    "          label='exact')\n",
    "plt.errorbar(num_rff_samples[order], mean_rff_invquad, std_rff_invquad/np.sqrt(num_rr_rounds), label='RFF')\n",
    "plt.errorbar(num_rff_samples[order], mean_rr_invquad, std_rr_invquad/np.sqrt(num_rr_rounds), label= 'RR-RFF')\n",
    "plt.title('invquad')\n",
    "plt.xlabel('J')\n",
    "plt.ylabel('invquad')\n",
    "plt.suptitle('UCI pol data')\n",
    "plt.tight_layout()\n",
    "plt.legend()\n",
    "plt.savefig('ss-rff-debias-one-over-j.png')"
   ]
  },
  {
   "cell_type": "code",
   "execution_count": 29,
   "metadata": {},
   "outputs": [],
   "source": [
    "#model_ss.dist_obj.prob(model_ss.dist_obj.min)"
   ]
  },
  {
   "cell_type": "code",
   "execution_count": 30,
   "metadata": {},
   "outputs": [],
   "source": [
    "# print(mean_rff_log_det)\n",
    "# print(log_det_exact)\n",
    "# print(mean_rff_log_det/log_det_exact)"
   ]
  },
  {
   "cell_type": "code",
   "execution_count": 31,
   "metadata": {},
   "outputs": [],
   "source": [
    "# plt.hlines(y=0, xmin=200, xmax=900, linestyle='dashed', color='black')\n",
    "# plt.plot(num_rff_samples, np.log(mean_rff_log_det/log_det_exact.numpy()), '-ro')\n",
    "# plt.plot(num_rff_samples, np.log(mean_rr_log_det/log_det_exact.numpy()), '-bo')\n",
    "# plt.xlabel('num rff features')"
   ]
  },
  {
   "cell_type": "markdown",
   "metadata": {},
   "source": [
    "## training an `RR-RFF` model\n",
    "beware -- it's super slow (it should be J times slower than the equivalent RFF. But we should check whether we have an additional bug."
   ]
  },
  {
   "cell_type": "code",
   "execution_count": 32,
   "metadata": {},
   "outputs": [],
   "source": [
    "# # train the rr-rff model\n",
    "# i = 0 # for test, not really looping over anything\n",
    "# total_iters = 500\n",
    "# num_rr_rounds = 200\n",
    "# min_vals = np.arange(100, 400, 100)\n",
    "# max_vals = min_vals + int(400)\n",
    "# temps = 0.00001\n",
    "# exp_dist = ExpDecayDist(temp=temps, min=min_vals[i], max=max_vals[i])\n",
    "# rr_model = build_RR_RFF_model(train_ds, exp_dist, None)\n",
    "# print_initial_hypers(rr_model)\n",
    "# with gpytorch.settings.debug(False):\n",
    "# #with gpytorch.settings.lazily_evaluate_kernels(False):\n",
    "#     #with gpytorch.settings.max_cholesky_size(int(1.e7)):\n",
    "#     mll = train(rr_model,\n",
    "#                 likelihood,\n",
    "#                 name=\"rr-rff\",\n",
    "#                 total_iters=total_iters)"
   ]
  },
  {
   "cell_type": "code",
   "execution_count": 33,
   "metadata": {},
   "outputs": [],
   "source": [
    "# # for a single value of expected J, plot the histogram of RR estimators and compares them to RFF Cholsesky\n",
    "# plt.vlines(x=RFF_log_det.detach().numpy(),\n",
    "#            ymin=0.,\n",
    "#            ymax=20.,\n",
    "#            color='red',\n",
    "#            label='RFF')\n",
    "# plt.vlines(x=cholesky_log_det.detach().numpy(),\n",
    "#            ymin=0.,\n",
    "#            ymax=20.,\n",
    "#            color='black',\n",
    "#            label='Cholesky')\n",
    "# plt.vlines(x=np.mean(debiased_log_det.detach().numpy()),\n",
    "#            ymin=0.,\n",
    "#            ymax=20.,\n",
    "#            color='blue',\n",
    "#            linestyle = 'dashed',\n",
    "#            label='RR mean')\n",
    "# plt.hist(debiased_log_det.detach().numpy(), label='RR samples')\n",
    "# plt.xlabel('logdet')\n",
    "# plt.ylabel('count')\n",
    "# plt.legend()\n",
    "# plt.savefig('unbias_test.png')"
   ]
  },
  {
   "cell_type": "code",
   "execution_count": null,
   "metadata": {},
   "outputs": [],
   "source": []
  }
 ],
 "metadata": {
  "kernelspec": {
   "display_name": "Python 3",
   "language": "python",
   "name": "python3"
  },
  "language_info": {
   "codemirror_mode": {
    "name": "ipython",
    "version": 3
   },
   "file_extension": ".py",
   "mimetype": "text/x-python",
   "name": "python",
   "nbconvert_exporter": "python",
   "pygments_lexer": "ipython3",
   "version": "3.8.3"
  }
 },
 "nbformat": 4,
 "nbformat_minor": 2
}
